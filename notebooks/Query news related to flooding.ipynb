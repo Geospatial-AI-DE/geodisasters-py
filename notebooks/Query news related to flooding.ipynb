{
 "cells": [
  {
   "cell_type": "markdown",
   "id": "a06d7d89",
   "metadata": {},
   "source": [
    "# Query news related to flooding"
   ]
  },
  {
   "cell_type": "code",
   "execution_count": 1,
   "id": "9e151e4d",
   "metadata": {},
   "outputs": [],
   "source": [
    "# author: Jan Tschada\n",
    "# SPDX-License-Identifer: Apache-2.0"
   ]
  },
  {
   "cell_type": "code",
   "execution_count": 2,
   "id": "38b7bcc1",
   "metadata": {},
   "outputs": [],
   "source": [
    "from arcgis.gis import GIS\n",
    "from arcgis.features import FeatureLayer, FeatureSet, GeoAccessor\n",
    "from arcgis.widgets import MapView\n",
    "from datetime import datetime, date, timedelta\n",
    "from geodisasters.services import aggregate, hotspots, query\n",
    "from georapid.client import GeoRapidClient\n",
    "from georapid.factory import EnvironmentClientFactory\n",
    "from georapid.formats import OutFormat"
   ]
  },
  {
   "cell_type": "code",
   "execution_count": 3,
   "id": "c0a66e74",
   "metadata": {},
   "outputs": [],
   "source": [
    "def querying_locations(client: GeoRapidClient, from_date: date, to_date: date) -> FeatureSet:\n",
    "    \"\"\"\n",
    "    Queries the news related to natural disasters\n",
    "    and returns the location as a feature set.\n",
    "    \n",
    "    :param client: The client instance to use for this query.\n",
    "    :param from_date: Defines the start of the date range.\n",
    "    :param to_date: Defines the end of the date range.\n",
    "    \n",
    "    :return: The locations related to natural disasters.\n",
    "    \"\"\"\n",
    "    featureset_dict = query(client, from_date, to_date, OutFormat.ESRI)\n",
    "    featureset = FeatureSet.from_dict(featureset_dict)\n",
    "    return featureset\n",
    "\n",
    "def plot_features(gis: GIS, featureset: FeatureSet) -> MapView:\n",
    "    \"\"\"\n",
    "    Creates and returns a simple map view with the plotted geospatial features.\n",
    "\n",
    "    :param gis: The GIS instance to use for the map view.\n",
    "    :param featureset: The hotspot locations related to natural disasters.\n",
    "    \n",
    "    :return: A map view showing the hotspot locations.\n",
    "    \"\"\"\n",
    "    map_view = gis.map('Europe')\n",
    "    featureset.sdf.spatial.plot(map_view,\n",
    "                                renderer_type='c', \n",
    "                                method='esriClassifyNaturalBreaks',\n",
    "                                class_count=5, \n",
    "                                col='count', \n",
    "                                cmap='YlOrRd',\n",
    "                                alpha=0.35)\n",
    "    return map_view\n",
    "\n",
    "def plot_geo(gis: GIS, sdf: GeoAccessor) -> MapView:\n",
    "    \"\"\"\n",
    "    Creates and returns a simple map view with the plotted geospatial features.\n",
    "\n",
    "    :param gis: The GIS instance to use for the map view.\n",
    "    :param sdf: The locations as a spatially enabled dataframe.\n",
    "    \n",
    "    :return: A map view showing the hotspot locations.\n",
    "    \"\"\"\n",
    "    map_view = gis.map('Europe')\n",
    "    sdf.spatial.plot(map_view,\n",
    "                     renderer_type='c', \n",
    "                     method='esriClassifyNaturalBreaks',\n",
    "                     class_count=5, \n",
    "                     col='count', \n",
    "                     cmap='YlOrRd',\n",
    "                     alpha=0.35)\n",
    "    return map_view"
   ]
  },
  {
   "cell_type": "markdown",
   "id": "fcea506f",
   "metadata": {},
   "source": [
    "## Authenticate using a Rapid API key\n",
    "The `host` parameter must target the specific host like \"geodisasters.p.rapidapi.com\". Furthermore, the factory directly access `os.environ['x_rapidapi_key']` and uses the specified API key as a header parameter. Otherwise, `georapid.factory.EnvironmentClientFactory.create_client_with_host()` will raise a `ValueError`."
   ]
  },
  {
   "cell_type": "code",
   "execution_count": 4,
   "id": "c1a08214",
   "metadata": {},
   "outputs": [],
   "source": [
    "client = EnvironmentClientFactory.create_client_with_host('geodisasters.p.rapidapi.com')"
   ]
  },
  {
   "cell_type": "markdown",
   "id": "6e195dcb",
   "metadata": {},
   "source": [
    "## Connect to ArcGIS Online as an anonymous user"
   ]
  },
  {
   "cell_type": "code",
   "execution_count": 5,
   "id": "47bc7276",
   "metadata": {},
   "outputs": [],
   "source": [
    "gis = GIS()"
   ]
  },
  {
   "cell_type": "markdown",
   "id": "b194f6c2",
   "metadata": {},
   "source": [
    "## Query the news related to natural disasters\n",
    "Filter only the news related to flooding, and restrict the date range."
   ]
  },
  {
   "cell_type": "code",
   "execution_count": 9,
   "id": "cf178505",
   "metadata": {},
   "outputs": [],
   "source": [
    "from_date = date(2024, 8, 12)\n",
    "to_date = date(2024, 8, 14)\n",
    "locations_fset = querying_locations(client, from_date, to_date)\n",
    "locations_sdf = locations_fset.sdf"
   ]
  },
  {
   "cell_type": "code",
   "execution_count": 10,
   "id": "f69cee1a",
   "metadata": {},
   "outputs": [
    {
     "data": {
      "text/html": [
       "<div>\n",
       "<style scoped>\n",
       "    .dataframe tbody tr th:only-of-type {\n",
       "        vertical-align: middle;\n",
       "    }\n",
       "\n",
       "    .dataframe tbody tr th {\n",
       "        vertical-align: top;\n",
       "    }\n",
       "\n",
       "    .dataframe thead th {\n",
       "        text-align: right;\n",
       "    }\n",
       "</style>\n",
       "<table border=\"1\" class=\"dataframe\">\n",
       "  <thead>\n",
       "    <tr style=\"text-align: right;\">\n",
       "      <th></th>\n",
       "      <th>count</th>\n",
       "      <th>theme</th>\n",
       "      <th>location</th>\n",
       "      <th>from</th>\n",
       "      <th>to</th>\n",
       "      <th>OBJECTID</th>\n",
       "      <th>SHAPE</th>\n",
       "    </tr>\n",
       "  </thead>\n",
       "  <tbody>\n",
       "    <tr>\n",
       "      <th>2</th>\n",
       "      <td>135</td>\n",
       "      <td>FLOOD</td>\n",
       "      <td>Boston, Massachusetts, United States</td>\n",
       "      <td>2024-08-12</td>\n",
       "      <td>2024-08-14</td>\n",
       "      <td>3</td>\n",
       "      <td>{\"x\": -71.0598, \"y\": 42.3584, \"spatialReferenc...</td>\n",
       "    </tr>\n",
       "    <tr>\n",
       "      <th>3</th>\n",
       "      <td>133</td>\n",
       "      <td>FLOOD</td>\n",
       "      <td>Canisteo, New York, United States</td>\n",
       "      <td>2024-08-12</td>\n",
       "      <td>2024-08-14</td>\n",
       "      <td>4</td>\n",
       "      <td>{\"x\": -77.6058, \"y\": 42.2703, \"spatialReferenc...</td>\n",
       "    </tr>\n",
       "    <tr>\n",
       "      <th>4</th>\n",
       "      <td>127</td>\n",
       "      <td>FLOOD</td>\n",
       "      <td>Breckland, Norfolk, United Kingdom</td>\n",
       "      <td>2024-08-12</td>\n",
       "      <td>2024-08-14</td>\n",
       "      <td>5</td>\n",
       "      <td>{\"x\": 0.6667, \"y\": 52.5, \"spatialReference\": {...</td>\n",
       "    </tr>\n",
       "    <tr>\n",
       "      <th>5</th>\n",
       "      <td>110</td>\n",
       "      <td>FLOOD</td>\n",
       "      <td>Jilin, Jilin, China</td>\n",
       "      <td>2024-08-12</td>\n",
       "      <td>2024-08-14</td>\n",
       "      <td>6</td>\n",
       "      <td>{\"x\": 126.56, \"y\": 43.8508, \"spatialReference\"...</td>\n",
       "    </tr>\n",
       "    <tr>\n",
       "      <th>6</th>\n",
       "      <td>109</td>\n",
       "      <td>FLOOD</td>\n",
       "      <td>Saalbach, ThüN, Germany</td>\n",
       "      <td>2024-08-12</td>\n",
       "      <td>2024-08-14</td>\n",
       "      <td>7</td>\n",
       "      <td>{\"x\": 11.75, \"y\": 50.4, \"spatialReference\": {\"...</td>\n",
       "    </tr>\n",
       "    <tr>\n",
       "      <th>10</th>\n",
       "      <td>74</td>\n",
       "      <td>FLOOD</td>\n",
       "      <td>Bern, Bern, Switzerland</td>\n",
       "      <td>2024-08-12</td>\n",
       "      <td>2024-08-14</td>\n",
       "      <td>11</td>\n",
       "      <td>{\"x\": 7.4667, \"y\": 46.9167, \"spatialReference\"...</td>\n",
       "    </tr>\n",
       "    <tr>\n",
       "      <th>11</th>\n",
       "      <td>74</td>\n",
       "      <td>FLOOD</td>\n",
       "      <td>Philadelphia, Pennsylvania, United States</td>\n",
       "      <td>2024-08-12</td>\n",
       "      <td>2024-08-14</td>\n",
       "      <td>12</td>\n",
       "      <td>{\"x\": -75.1638, \"y\": 39.9523, \"spatialReferenc...</td>\n",
       "    </tr>\n",
       "    <tr>\n",
       "      <th>12</th>\n",
       "      <td>73</td>\n",
       "      <td>FLOOD</td>\n",
       "      <td>Tuscarora Creek, Pennsylvania, United States</td>\n",
       "      <td>2024-08-12</td>\n",
       "      <td>2024-08-14</td>\n",
       "      <td>13</td>\n",
       "      <td>{\"x\": -77.0039, \"y\": 40.872, \"spatialReference...</td>\n",
       "    </tr>\n",
       "    <tr>\n",
       "      <th>15</th>\n",
       "      <td>68</td>\n",
       "      <td>FLOOD</td>\n",
       "      <td>Karlsruhe, Baden-WüBerg, Germany</td>\n",
       "      <td>2024-08-12</td>\n",
       "      <td>2024-08-14</td>\n",
       "      <td>16</td>\n",
       "      <td>{\"x\": 8.3858, \"y\": 49.0047, \"spatialReference\"...</td>\n",
       "    </tr>\n",
       "    <tr>\n",
       "      <th>33</th>\n",
       "      <td>50</td>\n",
       "      <td>FLOOD</td>\n",
       "      <td>Ussuri River, China (General), China</td>\n",
       "      <td>2024-08-12</td>\n",
       "      <td>2024-08-14</td>\n",
       "      <td>34</td>\n",
       "      <td>{\"x\": 135.078, \"y\": 48.4517, \"spatialReference...</td>\n",
       "    </tr>\n",
       "  </tbody>\n",
       "</table>\n",
       "</div>"
      ],
      "text/plain": [
       "    count  theme                                      location        from  \\\n",
       "2     135  FLOOD          Boston, Massachusetts, United States  2024-08-12   \n",
       "3     133  FLOOD             Canisteo, New York, United States  2024-08-12   \n",
       "4     127  FLOOD            Breckland, Norfolk, United Kingdom  2024-08-12   \n",
       "5     110  FLOOD                           Jilin, Jilin, China  2024-08-12   \n",
       "6     109  FLOOD                       Saalbach, ThüN, Germany  2024-08-12   \n",
       "10     74  FLOOD                       Bern, Bern, Switzerland  2024-08-12   \n",
       "11     74  FLOOD     Philadelphia, Pennsylvania, United States  2024-08-12   \n",
       "12     73  FLOOD  Tuscarora Creek, Pennsylvania, United States  2024-08-12   \n",
       "15     68  FLOOD              Karlsruhe, Baden-WüBerg, Germany  2024-08-12   \n",
       "33     50  FLOOD          Ussuri River, China (General), China  2024-08-12   \n",
       "\n",
       "            to  OBJECTID                                              SHAPE  \n",
       "2   2024-08-14         3  {\"x\": -71.0598, \"y\": 42.3584, \"spatialReferenc...  \n",
       "3   2024-08-14         4  {\"x\": -77.6058, \"y\": 42.2703, \"spatialReferenc...  \n",
       "4   2024-08-14         5  {\"x\": 0.6667, \"y\": 52.5, \"spatialReference\": {...  \n",
       "5   2024-08-14         6  {\"x\": 126.56, \"y\": 43.8508, \"spatialReference\"...  \n",
       "6   2024-08-14         7  {\"x\": 11.75, \"y\": 50.4, \"spatialReference\": {\"...  \n",
       "10  2024-08-14        11  {\"x\": 7.4667, \"y\": 46.9167, \"spatialReference\"...  \n",
       "11  2024-08-14        12  {\"x\": -75.1638, \"y\": 39.9523, \"spatialReferenc...  \n",
       "12  2024-08-14        13  {\"x\": -77.0039, \"y\": 40.872, \"spatialReference...  \n",
       "15  2024-08-14        16  {\"x\": 8.3858, \"y\": 49.0047, \"spatialReference\"...  \n",
       "33  2024-08-14        34  {\"x\": 135.078, \"y\": 48.4517, \"spatialReference...  "
      ]
     },
     "execution_count": 10,
     "metadata": {},
     "output_type": "execute_result"
    }
   ],
   "source": [
    "locations_sdf[locations_sdf['theme'] == 'FLOOD'].sort_values(by=['count'], ascending=False)"
   ]
  },
  {
   "cell_type": "code",
   "execution_count": 11,
   "id": "27c106de",
   "metadata": {},
   "outputs": [
    {
     "data": {
      "application/vnd.jupyter.widget-view+json": {
       "model_id": "f7e0cf9d8f1d4d4b861311aed5aa0ffa",
       "version_major": 2,
       "version_minor": 0
      },
      "text/plain": [
       "MapView(layout=Layout(height='400px', width='100%'))"
      ]
     },
     "metadata": {},
     "output_type": "display_data"
    },
    {
     "data": {
      "text/html": [
       "<div class=\"map-static-img-preview-3500758b-d4b7-4ca0-807f-285340d728e6\"><img src=\"\"></img></div>"
      ],
      "text/plain": [
       "<IPython.core.display.HTML object>"
      ]
     },
     "metadata": {},
     "output_type": "display_data"
    },
    {
     "data": {
      "text/html": [
       "<div class=\"map-html-embed-preview-3500758b-d4b7-4ca0-807f-285340d728e6\"></div>"
      ],
      "text/plain": [
       "<IPython.core.display.HTML object>"
      ]
     },
     "metadata": {},
     "output_type": "display_data"
    }
   ],
   "source": [
    "plot_geo(gis, locations_sdf)"
   ]
  },
  {
   "cell_type": "code",
   "execution_count": null,
   "id": "69b58c80",
   "metadata": {},
   "outputs": [],
   "source": []
  }
 ],
 "metadata": {
  "kernelspec": {
   "display_name": "Python 3 (ipykernel)",
   "language": "python",
   "name": "python3"
  },
  "language_info": {
   "codemirror_mode": {
    "name": "ipython",
    "version": 3
   },
   "file_extension": ".py",
   "mimetype": "text/x-python",
   "name": "python",
   "nbconvert_exporter": "python",
   "pygments_lexer": "ipython3",
   "version": "3.9.15"
  }
 },
 "nbformat": 4,
 "nbformat_minor": 5
}
