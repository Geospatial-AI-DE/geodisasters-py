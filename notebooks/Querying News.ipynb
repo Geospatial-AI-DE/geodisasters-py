{
 "cells": [
  {
   "cell_type": "markdown",
   "id": "8ffc68cf",
   "metadata": {},
   "source": [
    "# Querying news related to natural disasters"
   ]
  },
  {
   "cell_type": "code",
   "execution_count": 1,
   "id": "447303f3",
   "metadata": {},
   "outputs": [],
   "source": [
    "# author: Jan Tschada\n",
    "# SPDX-License-Identifer: Apache-2.0"
   ]
  },
  {
   "cell_type": "code",
   "execution_count": 7,
   "id": "348fa3b9",
   "metadata": {},
   "outputs": [],
   "source": [
    "from arcgis.gis import GIS\n",
    "from arcgis.features import FeatureLayer, FeatureSet\n",
    "from datetime import datetime, timedelta\n",
    "from geodisasters.services import hotspots\n",
    "from georapid.client import GeoRapidClient\n",
    "from georapid.factory import EnvironmentClientFactory\n",
    "from georapid.formats import OutFormat"
   ]
  },
  {
   "cell_type": "code",
   "execution_count": 15,
   "id": "7b05e516",
   "metadata": {},
   "outputs": [],
   "source": [
    "def querying_hotspots_from_yesterday(client: GeoRapidClient):\n",
    "    \"\"\"\n",
    "    Queries the news related to natural disasters and returns the hotspots as a feature set.\n",
    "    \n",
    "    :param client: The client instance to use for this query.\n",
    "    \n",
    "    :return: The hotspot locations related to natural disasters.\n",
    "    \"\"\"\n",
    "    featureset_dict = hotspots(client, format=OutFormat.ESRI)\n",
    "    featureset = FeatureSet.from_dict(featureset_dict)\n",
    "    return featureset\n",
    "\n",
    "def plot_features(gis: GIS, featureset: FeatureSet):\n",
    "    \"\"\"\n",
    "    Creates and returns a simple map view with the plotted geospatial features.\n",
    "\n",
    "    :param gis: The GIS instance to use for the map view.\n",
    "    :param featureset: The hotspot locations related to natural disasters.\n",
    "    \n",
    "    :return: A map view showing the hotspot locations.\n",
    "    \"\"\"\n",
    "    map_view = gis.map('Europe')\n",
    "    featureset.sdf.spatial.plot(map_view,\n",
    "                                renderer_type='c', \n",
    "                                method='esriClassifyNaturalBreaks',\n",
    "                                class_count=5, \n",
    "                                col='count', \n",
    "                                cmap='YlOrRd',\n",
    "                                alpha=0.35)\n",
    "    return map_view"
   ]
  },
  {
   "cell_type": "markdown",
   "id": "cf25042a",
   "metadata": {},
   "source": [
    "## Authenticate using a Rapid API key\n",
    "The `host` parameter must target the specific host like `\"geodisasters.p.rapidapi.com\"`. Furthermore, the factory directly access `os.environ['x_rapidapi_key']` and uses the specified API key as a header parameter. Otherwise, `georapid.factory.EnvironmentClientFactory.create_client_with_host()` will raise a `ValueError`."
   ]
  },
  {
   "cell_type": "code",
   "execution_count": 16,
   "id": "207fa678",
   "metadata": {},
   "outputs": [],
   "source": [
    "client = EnvironmentClientFactory.create_client_with_host('geodisasters.p.rapidapi.com')"
   ]
  },
  {
   "cell_type": "markdown",
   "id": "e2cdf2ea",
   "metadata": {},
   "source": [
    "## Connect to ArcGIS Online as an anonymous user"
   ]
  },
  {
   "cell_type": "code",
   "execution_count": 17,
   "id": "8393b8e6",
   "metadata": {},
   "outputs": [],
   "source": [
    "gis = GIS()"
   ]
  },
  {
   "cell_type": "markdown",
   "id": "93447702",
   "metadata": {},
   "source": [
    "## Query the news related to natural disasters "
   ]
  },
  {
   "cell_type": "code",
   "execution_count": 19,
   "id": "aeabc7e6",
   "metadata": {},
   "outputs": [
    {
     "data": {
      "text/html": [
       "<div>\n",
       "<style scoped>\n",
       "    .dataframe tbody tr th:only-of-type {\n",
       "        vertical-align: middle;\n",
       "    }\n",
       "\n",
       "    .dataframe tbody tr th {\n",
       "        vertical-align: top;\n",
       "    }\n",
       "\n",
       "    .dataframe thead th {\n",
       "        text-align: right;\n",
       "    }\n",
       "</style>\n",
       "<table border=\"1\" class=\"dataframe\">\n",
       "  <thead>\n",
       "    <tr style=\"text-align: right;\">\n",
       "      <th></th>\n",
       "      <th>location</th>\n",
       "      <th>theme</th>\n",
       "      <th>count</th>\n",
       "      <th>date</th>\n",
       "      <th>OBJECTID</th>\n",
       "      <th>SHAPE</th>\n",
       "    </tr>\n",
       "  </thead>\n",
       "  <tbody>\n",
       "    <tr>\n",
       "      <th>0</th>\n",
       "      <td>Athens, AttikíR, Greece</td>\n",
       "      <td>DROUGHT</td>\n",
       "      <td>207</td>\n",
       "      <td>2024-08-11</td>\n",
       "      <td>1</td>\n",
       "      <td>{\"x\": 23.7333, \"y\": 37.9833, \"spatialReference...</td>\n",
       "    </tr>\n",
       "    <tr>\n",
       "      <th>6</th>\n",
       "      <td>Athens, AttikíR, Greece</td>\n",
       "      <td>WILDFIRE</td>\n",
       "      <td>159</td>\n",
       "      <td>2024-08-11</td>\n",
       "      <td>7</td>\n",
       "      <td>{\"x\": 23.7333, \"y\": 37.9833, \"spatialReference...</td>\n",
       "    </tr>\n",
       "    <tr>\n",
       "      <th>7</th>\n",
       "      <td>Valemount, British Columbia, Canada</td>\n",
       "      <td>WILDFIRE</td>\n",
       "      <td>147</td>\n",
       "      <td>2024-08-11</td>\n",
       "      <td>8</td>\n",
       "      <td>{\"x\": -119.25, \"y\": 52.8333, \"spatialReference...</td>\n",
       "    </tr>\n",
       "    <tr>\n",
       "      <th>4</th>\n",
       "      <td>Kampala, Kampala, Uganda</td>\n",
       "      <td>LANDSLIDE</td>\n",
       "      <td>102</td>\n",
       "      <td>2024-08-11</td>\n",
       "      <td>5</td>\n",
       "      <td>{\"x\": 32.5656, \"y\": 0.3156, \"spatialReference\"...</td>\n",
       "    </tr>\n",
       "    <tr>\n",
       "      <th>5</th>\n",
       "      <td>Istanbul, Istanbul, Turkey</td>\n",
       "      <td>LANDSLIDE</td>\n",
       "      <td>66</td>\n",
       "      <td>2024-08-11</td>\n",
       "      <td>6</td>\n",
       "      <td>{\"x\": 28.9647, \"y\": 41.0186, \"spatialReference...</td>\n",
       "    </tr>\n",
       "    <tr>\n",
       "      <th>1</th>\n",
       "      <td>South China Sea, Brunei (General), Brunei</td>\n",
       "      <td>EARTHQUAKE</td>\n",
       "      <td>59</td>\n",
       "      <td>2024-08-11</td>\n",
       "      <td>2</td>\n",
       "      <td>{\"x\": 115, \"y\": 15, \"spatialReference\": {\"wkid...</td>\n",
       "    </tr>\n",
       "    <tr>\n",
       "      <th>3</th>\n",
       "      <td>National Hurricane Center, Florida, United States</td>\n",
       "      <td>HURRICANE</td>\n",
       "      <td>58</td>\n",
       "      <td>2024-08-11</td>\n",
       "      <td>4</td>\n",
       "      <td>{\"x\": -80.3836, \"y\": 25.7522, \"spatialReferenc...</td>\n",
       "    </tr>\n",
       "    <tr>\n",
       "      <th>2</th>\n",
       "      <td>Tokyo, Tokyo, Japan</td>\n",
       "      <td>EARTHQUAKE</td>\n",
       "      <td>54</td>\n",
       "      <td>2024-08-11</td>\n",
       "      <td>3</td>\n",
       "      <td>{\"x\": 139.751, \"y\": 35.685, \"spatialReference\"...</td>\n",
       "    </tr>\n",
       "  </tbody>\n",
       "</table>\n",
       "</div>"
      ],
      "text/plain": [
       "                                            location       theme  count  \\\n",
       "0                            Athens, AttikíR, Greece     DROUGHT    207   \n",
       "6                            Athens, AttikíR, Greece    WILDFIRE    159   \n",
       "7                Valemount, British Columbia, Canada    WILDFIRE    147   \n",
       "4                           Kampala, Kampala, Uganda   LANDSLIDE    102   \n",
       "5                         Istanbul, Istanbul, Turkey   LANDSLIDE     66   \n",
       "1          South China Sea, Brunei (General), Brunei  EARTHQUAKE     59   \n",
       "3  National Hurricane Center, Florida, United States   HURRICANE     58   \n",
       "2                                Tokyo, Tokyo, Japan  EARTHQUAKE     54   \n",
       "\n",
       "         date  OBJECTID                                              SHAPE  \n",
       "0  2024-08-11         1  {\"x\": 23.7333, \"y\": 37.9833, \"spatialReference...  \n",
       "6  2024-08-11         7  {\"x\": 23.7333, \"y\": 37.9833, \"spatialReference...  \n",
       "7  2024-08-11         8  {\"x\": -119.25, \"y\": 52.8333, \"spatialReference...  \n",
       "4  2024-08-11         5  {\"x\": 32.5656, \"y\": 0.3156, \"spatialReference\"...  \n",
       "5  2024-08-11         6  {\"x\": 28.9647, \"y\": 41.0186, \"spatialReference...  \n",
       "1  2024-08-11         2  {\"x\": 115, \"y\": 15, \"spatialReference\": {\"wkid...  \n",
       "3  2024-08-11         4  {\"x\": -80.3836, \"y\": 25.7522, \"spatialReferenc...  \n",
       "2  2024-08-11         3  {\"x\": 139.751, \"y\": 35.685, \"spatialReference\"...  "
      ]
     },
     "execution_count": 19,
     "metadata": {},
     "output_type": "execute_result"
    }
   ],
   "source": [
    "hotspot_locations_fset = querying_hotspots_from_yesterday(client)\n",
    "hotspot_locations_fset.sdf.sort_values(by=['count'], ascending=False)"
   ]
  },
  {
   "cell_type": "markdown",
   "id": "60e8ccf4",
   "metadata": {},
   "source": [
    "## Visualize the news related to natural disasters "
   ]
  },
  {
   "cell_type": "code",
   "execution_count": 21,
   "id": "9bb5dd0d",
   "metadata": {},
   "outputs": [
    {
     "data": {
      "application/vnd.jupyter.widget-view+json": {
       "model_id": "48e86e2e4bc54539bd2b2d17bbdc1c9d",
       "version_major": 2,
       "version_minor": 0
      },
      "text/plain": [
       "MapView(layout=Layout(height='400px', width='100%'))"
      ]
     },
     "metadata": {},
     "output_type": "display_data"
    },
    {
     "data": {
      "text/html": [
       "<div class=\"map-static-img-preview-e0ca1aae-e9bb-454d-9b43-0121990fe6ab\"><img src=\"\"></img></div>"
      ],
      "text/plain": [
       "<IPython.core.display.HTML object>"
      ]
     },
     "metadata": {},
     "output_type": "display_data"
    },
    {
     "data": {
      "text/html": [
       "<div class=\"map-html-embed-preview-e0ca1aae-e9bb-454d-9b43-0121990fe6ab\"></div>"
      ],
      "text/plain": [
       "<IPython.core.display.HTML object>"
      ]
     },
     "metadata": {},
     "output_type": "display_data"
    }
   ],
   "source": [
    "plot_features(gis, hotspot_locations_fset)"
   ]
  },
  {
   "cell_type": "code",
   "execution_count": null,
   "id": "5d57afff",
   "metadata": {},
   "outputs": [],
   "source": []
  }
 ],
 "metadata": {
  "kernelspec": {
   "display_name": "Python 3 (ipykernel)",
   "language": "python",
   "name": "python3"
  },
  "language_info": {
   "codemirror_mode": {
    "name": "ipython",
    "version": 3
   },
   "file_extension": ".py",
   "mimetype": "text/x-python",
   "name": "python",
   "nbconvert_exporter": "python",
   "pygments_lexer": "ipython3",
   "version": "3.9.15"
  }
 },
 "nbformat": 4,
 "nbformat_minor": 5
}
